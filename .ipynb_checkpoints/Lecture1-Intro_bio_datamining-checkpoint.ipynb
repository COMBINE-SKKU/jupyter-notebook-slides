{
 "cells": [
  {
   "cell_type": "markdown",
   "metadata": {
    "slideshow": {
     "slide_type": "slide"
    }
   },
   "source": [
    "# <font color=#1a75ff>Bio Data Mining</font>\n",
    "***\n",
    "## _<font color=#33ccff>Lecture 1: Introduction of data mining</font>_\n",
    "<br>\n",
    "<br>\n",
    "<br>\n",
    "<br>\n",
    "<br>\n",
    "<div style=\"text-align: right\"><font color=#000000>Seok-Jun Hong (hongseokjun@skku.edu)</font></div>\n",
    "<div style=\"text-align: right\"><font color=#000000>Department of Global Biomedical Engineering, SKKU</font></div>\n",
    "<div style=\"text-align: right\"><font color=#000000><a href=\"https://combinelab.net/\">COMBINE Lab</font></div>"
   ]
  },
  {
   "cell_type": "markdown",
   "metadata": {
    "slideshow": {
     "slide_type": "slide"
    }
   },
   "source": [
    "# <font color=#1a75ff>Notice</font>\n",
    "***\n",
    "- A major subject for the 4th year of undergraduate students (e.g., BME, Biology, Pharmacology, Medicine)\n",
    "- Introduction of a wide range of data mining techniques  \n",
    "- More practical use and less theory (code implementation)"
   ]
  },
  {
   "cell_type": "markdown",
   "metadata": {
    "slideshow": {
     "slide_type": "fragment"
    }
   },
   "source": [
    "- 13 weeks of course except for the mid-term and final exams (no assignment/project)\n",
    "- Both exams will be based on essay questions.\n",
    "- Relative grading system (A+/A/A-: 40%, B+/B/B-: 50%, C-D: 10%)\n",
    "- Not determined whether the exam will be online or offline (will be posted soon)."
   ]
  },
  {
   "cell_type": "markdown",
   "metadata": {
    "slideshow": {
     "slide_type": "skip"
    }
   },
   "source": [
    "Which textbook we will rely on..."
   ]
  },
  {
   "cell_type": "markdown",
   "metadata": {
    "slideshow": {
     "slide_type": "slide"
    }
   },
   "source": [
    "# <div style=\"text-align: center\"><font color=#1a75ff>Definition of Data Mining</font></div>\n",
    "***"
   ]
  },
  {
   "cell_type": "markdown",
   "metadata": {
    "slideshow": {
     "slide_type": "fragment"
    }
   },
   "source": [
    "<img src=\"Figure/Fig1-1.png\" title=\"Dictionary\"/>\n",
    "<div style=\"text-align: Left\">Wikipedia: <b>Data mining</b> is a process of discovering patterns in large data sets involving methods at the intersection of machine learning, statistics, and database systems.<font color=#000000></font></div>"
   ]
  },
  {
   "cell_type": "markdown",
   "metadata": {
    "slideshow": {
     "slide_type": "fragment"
    }
   },
   "source": [
    "## <div style=\"text-align: center\"><font color=#000000>How is it different from Machine Learning?</font></div>"
   ]
  },
  {
   "cell_type": "markdown",
   "metadata": {
    "slideshow": {
     "slide_type": "slide"
    }
   },
   "source": [
    "<style type=\"text/css\">\n",
    ".tg  {border:none;border-collapse:collapse;border-spacing:0;}\n",
    ".tg td{border-style:solid;border-width:0px;font-family:Arial, sans-serif;font-size:14px;overflow:hidden;padding:0px 5px;\n",
    "  word-break:normal;}\n",
    ".tg th{border-style:solid;border-width:0px;font-family:Arial, sans-serif;font-size:14px;font-weight:normal;\n",
    "  overflow:hidden;padding:0px 5px;word-break:normal;}\n",
    ".tg .tg-4rlv{background-color:#ffffff;border-color:inherit;font-size:16px;text-align:left;vertical-align:top}\n",
    ".tg .tg-0lax{background-color:#ffffff;text-align:left;vertical-align:top}\n",
    ".tg .tg-ktyi{background-color:#ffffff;text-align:left;vertical-align:top}\n",
    "</style>\n",
    "<table class=\"tg\">\n",
    "<thead>\n",
    "  <tr>\n",
    "    <th class=\"tg-4rlv\"><img src=\"data:image/svg+xml,%3csvg xmlns='http://www.w3.org/2000/svg' viewBox='0 0 448 512'%3e%3cpath fill='%23000000' d='M448 73.143v45.714C448 159.143 347.667 192 224 192S0 159.143 0 118.857V73.143C0 32.857 100.333 0 224 0s224 32.857 224 73.143zM448 176v102.857C448 319.143 347.667 352 224 352S0 319.143 0 278.857V176c48.125 33.143 136.208 48.572 224 48.572S399.874 209.143 448 176zm0 160v102.857C448 479.143 347.667 512 224 512S0 479.143 0 438.857V336c48.125 33.143 136.208 48.572 224 48.572S399.874 369.143 448 336z'/%3e%3c/svg%3e\" alt=\"Image\" width=\"20\" height=\"20\"> Data Mining</th>\n",
    "    <th class=\"tg-4rlv\"><img src=\"data:image/svg+xml,%3csvg xmlns='http://www.w3.org/2000/svg' viewBox='0 0 448 512'%3e%3cpath fill='%23000000' d='M400 0H48C22.4 0 0 22.4 0 48v416c0 25.6 22.4 48 48 48h352c25.6 0 48-22.4 48-48V48c0-25.6-22.4-48-48-48zM128 435.2c0 6.4-6.4 12.8-12.8 12.8H76.8c-6.4 0-12.8-6.4-12.8-12.8v-38.4c0-6.4 6.4-12.8 12.8-12.8h38.4c6.4 0 12.8 6.4 12.8 12.8v38.4zm0-128c0 6.4-6.4 12.8-12.8 12.8H76.8c-6.4 0-12.8-6.4-12.8-12.8v-38.4c0-6.4 6.4-12.8 12.8-12.8h38.4c6.4 0 12.8 6.4 12.8 12.8v38.4zm128 128c0 6.4-6.4 12.8-12.8 12.8h-38.4c-6.4 0-12.8-6.4-12.8-12.8v-38.4c0-6.4 6.4-12.8 12.8-12.8h38.4c6.4 0 12.8 6.4 12.8 12.8v38.4zm0-128c0 6.4-6.4 12.8-12.8 12.8h-38.4c-6.4 0-12.8-6.4-12.8-12.8v-38.4c0-6.4 6.4-12.8 12.8-12.8h38.4c6.4 0 12.8 6.4 12.8 12.8v38.4zm128 128c0 6.4-6.4 12.8-12.8 12.8h-38.4c-6.4 0-12.8-6.4-12.8-12.8V268.8c0-6.4 6.4-12.8 12.8-12.8h38.4c6.4 0 12.8 6.4 12.8 12.8v166.4zm0-256c0 6.4-6.4 12.8-12.8 12.8H76.8c-6.4 0-12.8-6.4-12.8-12.8V76.8C64 70.4 70.4 64 76.8 64h294.4c6.4 0 12.8 6.4 12.8 12.8v102.4z'/%3e%3c/svg%3e\" alt=\"Image\" width=\"20\" height=\"20\"> Machine Learning</th>\n",
    "  </tr>\n",
    "</thead>\n",
    "<tbody>\n",
    "  <tr>\n",
    "    <td class=\"tg-0lax\" colspan=\"2\">Commonalities</td>\n",
    "  </tr>\n",
    "  <tr>\n",
    "    <td class=\"tg-ktyi\" colspan=\"2\">- Both data mining and machine learning fall under the age of Data Science.<br><span style=\"font-weight:400;font-style:normal\">- Both processes are used for solving complex problems, so consequently, many people use the two terms interchangeably.</span><br><span style=\"font-weight:400;font-style:normal\">- Both processes employ the same critical algorithms for discovering data patterns.</span><br><span style=\"font-weight:400;font-style:normal\">- Machine learning is sometimes used as a means of conducting useful data mining.</span><br><span style=\"font-weight:400;font-style:normal\">- Data gathered from data mining can be used to teach machines; thus the lines between the two concepts become a bit blurred.</span><br><br></td>\n",
    "  </tr>\n",
    "  <tr>\n",
    "    <td class=\"tg-0lax\">Differences<br>Age</td>\n",
    "    <td class=\"tg-0lax\"></td>\n",
    "  </tr>\n",
    "  <tr>\n",
    "    <td class=\"tg-ktyi\"> - Since the 1930s.<br> - Initially called \"knowledge discovery in databases\"<br><br></td>\n",
    "    <td class=\"tg-ktyi\">- Appeared in the 1950s.</td>\n",
    "  </tr>\n",
    "  <tr>\n",
    "    <td class=\"tg-0lax\">Purpose</td>\n",
    "    <td class=\"tg-0lax\"></td>\n",
    "  </tr>\n",
    "  <tr>\n",
    "    <td class=\"tg-0lax\">- To extract the rules from large quantities of data</td>\n",
    "    <td class=\"tg-0lax\"><span style=\"font-weight:400;font-style:normal\">- To teach a computer how to learn and comprehend the given parameters</span><br><span style=\"font-weight:400;font-style:normal\">- To go beyond what's happened in the past to predict future outcomes</span><br><br></td>\n",
    "  </tr>\n",
    "  <tr>\n",
    "    <td class=\"tg-0lax\" colspan=\"2\">Human Factor</td>\n",
    "  </tr>\n",
    "  <tr>\n",
    "    <td class=\"tg-0lax\"><span style=\"font-weight:400;font-style:normal\">- Relies on human intervention and is ultimately created for use by people.</span></td>\n",
    "    <td class=\"tg-0lax\">- Can teach itself and not depend on human influence or actions.<br>- Human contact with machine learning is pretty much limited to setting up the initial algorithms. <br>- Then just let it be, a sort of “set it and forget it” process.</td>\n",
    "  </tr>\n",
    "</tbody>\n",
    "</table>"
   ]
  },
  {
   "cell_type": "markdown",
   "metadata": {
    "slideshow": {
     "slide_type": "subslide"
    }
   },
   "source": [
    "<center><img src=\"Figure/Fig1-2.png\" title=\"Dictionary\"></center>"
   ]
  },
  {
   "cell_type": "markdown",
   "metadata": {
    "slideshow": {
     "slide_type": "subslide"
    }
   },
   "source": [
    "<center><img src=\"Figure/Fig1-3.png\" title=\"Dictionary\"></center>"
   ]
  },
  {
   "cell_type": "markdown",
   "metadata": {
    "slideshow": {
     "slide_type": "slide"
    }
   },
   "source": [
    "# Type of Data Mining (or Machine Learning)\n",
    "***\n",
    "- Whether it is used for verification purpose or pattern discovery purpose:\n",
    "    - Verification vs. Discovery\n",
    "- Whether or not they are trained with supervision based on a prior knowledge: \n",
    "    - Supervised vs. Unsupervised vs. Semisupervised vs. Reinforcement Learning\n",
    "- Whether they work by simply comparing new data points to known data points or instead by detecting patterns in the training data and building a predictive model:\n",
    "    - Instance-based vs. model-based learning\n",
    "- Whether or not they can learn increamentally on the fly: \n",
    "    - Online vs. Batch learning"
   ]
  },
  {
   "cell_type": "markdown",
   "metadata": {
    "slideshow": {
     "slide_type": "slide"
    }
   },
   "source": [
    "# Verification\n",
    "***\n",
    "- Aim: To assess whether the data support my a priori hypothesis\n",
    "- Examples of methods: \n",
    "    - Two-sample t-test and Analysis of Variance (ANOVA; e.g. compare the height between three independent groups)\n",
    "    - Regression\n",
    "        - r-square value (Goodness-of-fit: how much my hypothetical model explains the data?)<br><br>\n",
    "\n",
    "- Statistical hypothesis testing based on p value"
   ]
  },
  {
   "cell_type": "markdown",
   "metadata": {
    "slideshow": {
     "slide_type": "slide"
    }
   },
   "source": [
    "# Discovery\n",
    "***\n",
    "- Aim: To learn the organizational rule of big data (\"Description\") and to furthermore predict their patterns in unseen cases (\"Prediction\")\n",
    "- Taxomony\n",
    "    - Description (Unsupervised): Clustering, Summarization (or reduction), Link analysis\n",
    "    - Prediction (Supervised): Regression, Classification"
   ]
  },
  {
   "cell_type": "markdown",
   "metadata": {
    "slideshow": {
     "slide_type": "subslide"
    }
   },
   "source": [
    "# Supervised learning\n",
    "***\n",
    "- The training set you feed to the algorithm includes the desired solution, called <i>labels</i>.<br>\n",
    "<center><img src=\"Figure/Fig1-4.png\"></center>\n",
    "<center><i>Figure 1. A labeled training set for spam classification (an example of supervised learning)</i></center>"
   ]
  },
  {
   "cell_type": "markdown",
   "metadata": {
    "slideshow": {
     "slide_type": "subslide"
    }
   },
   "source": [
    "- Type:\n",
    "    - <i>Classification</i>: Training the algorithm based on many instances along with their class (e.g. spam or normal).  \n",
    "    - <i>Regression</i>: Predicting a targeted <i>ordinal (and/or continuous)</i> numeric value (e.g. price of a car) based on a set of <i>features</i> (e.g., mileage, age, brand, etc) called <i>predictor</i>. In this system, one should provide both predictors and the targeted responders (label). <br><br>"
   ]
  },
  {
   "cell_type": "markdown",
   "metadata": {
    "slideshow": {
     "slide_type": "fragment"
    }
   },
   "source": [
    "- Representative supervised learning algorithms: \n",
    "    - k-Nearest Neighbors\n",
    "    - Linear Regression\n",
    "    - Logistic Regression\n",
    "    - Support Vector Machines (SVMs)\n",
    "    - Decision Trees and Random Forests\n",
    "    - Neural networks"
   ]
  },
  {
   "cell_type": "markdown",
   "metadata": {
    "slideshow": {
     "slide_type": "slide"
    }
   },
   "source": [
    "# Unsupervised learning\n",
    "***\n",
    "- The training data is unlabeled. The system tries to learn without a teacher.<br>\n",
    "<center><img src=\"Figure/Fig1-5.png\" title=\"Dictionary\"></center>\n",
    "<center><i>Figure 2. An unlabeled training set for unsupervised learning</i></center>"
   ]
  },
  {
   "cell_type": "markdown",
   "metadata": {
    "slideshow": {
     "slide_type": "subslide"
    }
   },
   "source": [
    "### Representative unsupervised learning algorithms\n",
    "***\n",
    "- Clustering: <i><font color=#33ccff>Detect groups showing similar features (no need to label)</font></i>\n",
    "    - K-Means\n",
    "    - DBSCAN\n",
    "    - Hierarchical Cluster Analysis (HCA)"
   ]
  },
  {
   "cell_type": "markdown",
   "metadata": {
    "slideshow": {
     "slide_type": "fragment"
    }
   },
   "source": [
    "- Visualization and dimensionality reduction: <i><font color=#33ccff>Feed complex, high dimensional and unlabeled data to find a simpler representation.</font></i> \n",
    "    - Principal Component Analysis (PCA)\n",
    "    - Non-linear Dimensionality reduction (Manifold learning)\n",
    "    - t-Distributed Stochastic Neighbor Embedding (t-SNE)"
   ]
  },
  {
   "cell_type": "markdown",
   "metadata": {
    "slideshow": {
     "slide_type": "subslide"
    }
   },
   "source": [
    "<center><img src=\"Figure/Fig1-6.png\" title=\"Dictionary\"></center>"
   ]
  },
  {
   "cell_type": "markdown",
   "metadata": {
    "slideshow": {
     "slide_type": "subslide"
    }
   },
   "source": [
    "<center><img src=\"Figure/Fig1-7.png\" title=\"Dictionary\"></center>"
   ]
  },
  {
   "cell_type": "markdown",
   "metadata": {
    "slideshow": {
     "slide_type": "slide"
    }
   },
   "source": [
    "- Anomaly or novelty detection: <i><font color=#33ccff>Identify unusal cases showing excessively deviated feature patterns compared to normal instances in the database.</font></i>  \n",
    "    - One-class SVM\n",
    "    - Isolation Forest"
   ]
  },
  {
   "cell_type": "markdown",
   "metadata": {
    "slideshow": {
     "slide_type": "slide"
    }
   },
   "source": [
    "# Semisupervised learning\n",
    "***\n",
    "- When having plenty of unlabeled instances, and few labeled instances.\n",
    "- A combination of unsupervised and supervised algorithms<br>\n",
    "<center><img src=\"Figure/Fig1-8.png\" title=\"Dictionary\"></center>\n",
    "<center><i>Figure 3. Semisupervised learning with two classes: the unlabeled examples (circles) help classify a new instance (the cross) into the triangle class rather than the square class.</i></center>"
   ]
  },
  {
   "cell_type": "markdown",
   "metadata": {
    "slideshow": {
     "slide_type": "slide"
    }
   },
   "source": [
    "# Reinforcement learning\n",
    "***\n",
    "- A conceptually different type of algorithm that is based on interaction with the environment.\n",
    "- The learning system, called an agent in this context, can observe the environment, select and perform actions, and get rewards in return\n",
    "- There is always a start and an end state for an agent (the AI-driven system); however, there might be different paths for reaching the end state, like a maze."
   ]
  },
  {
   "cell_type": "markdown",
   "metadata": {
    "slideshow": {
     "slide_type": "subslide"
    }
   },
   "source": [
    "<center><img src=\"Figure/Fig1-9.png\" title=\"Dictionary\" style=\"width:1091px;height:735px;\"></center>\n",
    "<center><i>Figure 4. Reinforcement Learning</i></center>"
   ]
  },
  {
   "cell_type": "markdown",
   "metadata": {
    "slideshow": {
     "slide_type": "subslide"
    }
   },
   "source": [
    "# Supervised learning vs. Reinforcement learning\n",
    "***\n",
    "- <b>Passive</b> vs. <b>Active</b> learning\n",
    "    - In supervised learning the learning process is passive. Passive because model learns a mapping from input to output space, without altering the input space as a consequence of its learning. \n",
    "    - In reinforcement learning, the learning process is active - the agent learns by interacting with its environment thereby changing the very environment it observes. \n",
    "<br><br>\n",
    "\n",
    "- <b>Instructive</b> vs. <b>Evaluative</b> role of supervision\n",
    "    - In supervised learning, the role of the teacher is instructive.\n",
    "    - In contrast in reinforcement learning, the teacher feedback is evaluative. And because an action of the agent affects the next action, its effect on the reward is cumulative."
   ]
  },
  {
   "cell_type": "markdown",
   "metadata": {
    "cell_style": "center",
    "slideshow": {
     "slide_type": "slide"
    }
   },
   "source": [
    "# Hands-on session 1\n",
    "***\n",
    "- Suppose we want to know if money makes people happy.\n",
    "- So you download the Better Life Index data from the OECD's webstie and stats about gross domestic product (GDP) per capita from the IMF's website."
   ]
  },
  {
   "cell_type": "markdown",
   "metadata": {
    "cell_style": "split",
    "slideshow": {
     "slide_type": "subslide"
    }
   },
   "source": [
    "<center><img src=\"Figure/Fig1-10.png\" title=\"Dictionary\" style=\"width:734px;height:372px;\"></center>\n",
    "<center><i>Table 1. Does Money make people happier?</i></center>"
   ]
  },
  {
   "cell_type": "markdown",
   "metadata": {
    "cell_style": "split",
    "slideshow": {
     "slide_type": "fragment"
    }
   },
   "source": [
    "<center><img src=\"Figure/Fig1-11.png\" title=\"Dictionary\" style=\"width:653px;height:372px;\"></center>\n",
    "<center><i>Figure 5. Do you see a trend here?</i></center>"
   ]
  },
  {
   "cell_type": "markdown",
   "metadata": {
    "slideshow": {
     "slide_type": "fragment"
    }
   },
   "source": [
    "- Satisfaction seems to go up more or less linearly as the country's GDP per capita increase.\n",
    "- So you decide to model life satisfaction as a linear function of GDP per capita. This step is called model selection.\n",
    "<center><img src=\"Figure/Fig1-12.png\" title=\"Equation\" style=\"width:579px;height:63px;\"></center>\n",
    "<center><i>Equation 1. A simple Linear Model</i></center>"
   ]
  },
  {
   "cell_type": "markdown",
   "metadata": {
    "slideshow": {
     "slide_type": "slide"
    }
   },
   "source": [
    "# Building a prediction framework based on a linear model\n",
    "***"
   ]
  },
  {
   "cell_type": "code",
   "execution_count": 1,
   "metadata": {
    "slideshow": {
     "slide_type": "fragment"
    }
   },
   "outputs": [],
   "source": [
    "import matplotlib.pyplot as plt\n",
    "import numpy as np\n",
    "import pandas as pd\n",
    "import sklearn.linear_model \n",
    "import os"
   ]
  },
  {
   "cell_type": "code",
   "execution_count": 2,
   "metadata": {
    "slideshow": {
     "slide_type": "skip"
    }
   },
   "outputs": [
    {
     "name": "stdout",
     "output_type": "stream",
     "text": [
      "Downloading oecd_bli_2015.csv\n",
      "Downloading gdp_per_capita.csv\n"
     ]
    }
   ],
   "source": [
    "import urllib\n",
    "datapath = os.path.join(\"datasets\", \"lifesat\", \"\")\n",
    "DOWNLOAD_ROOT = \"https://raw.githubusercontent.com/ageron/handson-ml2/master/\"\n",
    "os.makedirs(datapath, exist_ok=True)\n",
    "for filename in (\"oecd_bli_2015.csv\", \"gdp_per_capita.csv\"):\n",
    "    print(\"Downloading\", filename)\n",
    "    url = DOWNLOAD_ROOT + datapath + filename\n",
    "    urllib.request.urlretrieve(url, datapath + filename)"
   ]
  },
  {
   "cell_type": "code",
   "execution_count": 3,
   "metadata": {
    "slideshow": {
     "slide_type": "fragment"
    }
   },
   "outputs": [],
   "source": [
    "# Load the data\n",
    "oecd_bli = pd.read_csv(\"oecd_bli_2015.csv\", thousands=',')\n",
    "gdp_per_capita = pd.read_csv(\"gdp_per_capita.csv\",thousands=',',delimiter='\\t',\n",
    "encoding='latin1', na_values=\"n/a\")"
   ]
  },
  {
   "cell_type": "code",
   "execution_count": 4,
   "metadata": {
    "slideshow": {
     "slide_type": "subslide"
    }
   },
   "outputs": [],
   "source": [
    "def prepare_country_stats(oecd_bli, gdp_per_capita):\n",
    "    oecd_bli = oecd_bli[oecd_bli[\"INEQUALITY\"]==\"TOT\"]\n",
    "    oecd_bli = oecd_bli.pivot(index=\"Country\", columns=\"Indicator\", values=\"Value\")\n",
    "    gdp_per_capita.rename(columns={\"2015\": \"GDP per capita\"}, inplace=True)\n",
    "    gdp_per_capita.set_index(\"Country\", inplace=True)\n",
    "    full_country_stats = pd.merge(left=oecd_bli, right=gdp_per_capita,\n",
    "                                  left_index=True, right_index=True)\n",
    "    full_country_stats.sort_values(by=\"GDP per capita\", inplace=True)\n",
    "    remove_indices = [0, 1, 6, 8, 33, 34, 35]\n",
    "    keep_indices = list(set(range(36)) - set(remove_indices))\n",
    "    return full_country_stats[[\"GDP per capita\", 'Life satisfaction']].iloc[keep_indices]"
   ]
  },
  {
   "cell_type": "code",
   "execution_count": 5,
   "metadata": {
    "slideshow": {
     "slide_type": "slide"
    }
   },
   "outputs": [],
   "source": [
    "# Prepare the data\n",
    "country_stats = prepare_country_stats(oecd_bli, gdp_per_capita)\n",
    "X = np.c_[country_stats[\"GDP per capita\"]]\n",
    "y = np.c_[country_stats[\"Life satisfaction\"]]"
   ]
  },
  {
   "cell_type": "code",
   "execution_count": 6,
   "metadata": {
    "slideshow": {
     "slide_type": "fragment"
    }
   },
   "outputs": [
    {
     "data": {
      "image/png": "[encoded data removed]",
      "text/plain": [
       "<Figure size 432x288 with 1 Axes>"
      ]
     },
     "metadata": {
      "needs_background": "light"
     },
     "output_type": "display_data"
    }
   ],
   "source": [
    "# Visualize the data\n",
    "country_stats.plot(kind='scatter', x=\"GDP per capita\", y='Life satisfaction')\n",
    "plt.xlim(0, 60000)\n",
    "plt.ylim(2, 10)\n",
    "plt.show()"
   ]
  },
  {
   "cell_type": "code",
   "execution_count": 7,
   "metadata": {
    "slideshow": {
     "slide_type": "fragment"
    }
   },
   "outputs": [
    {
     "data": {
      "text/plain": [
       "LinearRegression(copy_X=True, fit_intercept=True, n_jobs=None, normalize=False)"
      ]
     },
     "execution_count": 7,
     "metadata": {},
     "output_type": "execute_result"
    }
   ],
   "source": [
    "# Select a linear model\n",
    "model = sklearn.linear_model.LinearRegression()\n",
    "\n",
    "# Train the model\n",
    "model.fit(X, y)"
   ]
  },
  {
   "cell_type": "code",
   "execution_count": 8,
   "metadata": {
    "slideshow": {
     "slide_type": "subslide"
    }
   },
   "outputs": [
    {
     "data": {
      "text/plain": [
       "(array([[4.91154459e-05]]), array([4.8530528]))"
      ]
     },
     "execution_count": 8,
     "metadata": {},
     "output_type": "execute_result"
    },
    {
     "data": {
      "image/png": "[encoded data removed]",
      "text/plain": [
       "<Figure size 360x360 with 1 Axes>"
      ]
     },
     "metadata": {
      "needs_background": "light"
     },
     "output_type": "display_data"
    }
   ],
   "source": [
    "import seaborn as sns\n",
    "g = sns.lmplot(x=\"GDP per capita\", y='Life satisfaction', data=country_stats, fit_reg=True) \n",
    "g.set(xlim=(0, 60000))\n",
    "g.set(ylim=(2, 10))\n",
    "\n",
    "model.coef_, model.intercept_"
   ]
  },
  {
   "cell_type": "code",
   "execution_count": 9,
   "metadata": {
    "scrolled": false,
    "slideshow": {
     "slide_type": "fragment"
    }
   },
   "outputs": [
    {
     "name": "stdout",
     "output_type": "stream",
     "text": [
      "[[5.96242338]]\n"
     ]
    }
   ],
   "source": [
    "# Make a prediction for Cyprus\n",
    "X_new = [[22587]] # Cyprus's GDP per capita\n",
    "print(model.predict(X_new)) # outputs [[ 5.96242338]]"
   ]
  },
  {
   "cell_type": "markdown",
   "metadata": {
    "slideshow": {
     "slide_type": "slide"
    }
   },
   "source": [
    "# Typical order of machine learning\n",
    "***\n",
    "- Load and prepare relevant data (or variables)\n",
    "- Visualize data to have a sense and select a hypothetical model\n",
    "- Train the model using prepared training data\n",
    "- Apply the trained model to the new 'unseen' cases for prediction"
   ]
  },
  {
   "cell_type": "markdown",
   "metadata": {
    "slideshow": {
     "slide_type": "fragment"
    }
   },
   "source": [
    "# Main challenges - I\n",
    "***\n",
    "- Insufficient Quantity of Training Data\n",
    "- Nonrepresentative Training Data"
   ]
  },
  {
   "cell_type": "markdown",
   "metadata": {
    "slideshow": {
     "slide_type": "subslide"
    }
   },
   "source": [
    "- It is crucial to use a training set that is representative of the cases you want to generalize\n",
    "to.\n",
    "- Sampling noise (when small sample size), Samling bias (skewed sampling method)<br><br>\n",
    "<center><img src=\"Figure/Fig1-13.png\" title=\"Representative\"></center>\n",
    "<center><i>Figure 6. A more representative training sample</i></center>"
   ]
  },
  {
   "cell_type": "markdown",
   "metadata": {
    "slideshow": {
     "slide_type": "slide"
    }
   },
   "source": [
    "# Main challenges - II\n",
    "***\n",
    "- Poor-Quality Data (e.g., many outliers, many cases missing some features, excessive noise)\n",
    "- Irrelevant Features (=garbage in, gargabe out)\n",
    "    - Option: <i>Feature selection</i>, <i>New feature generation/extraction</i>\n",
    "- Overfitting problem"
   ]
  },
  {
   "cell_type": "markdown",
   "metadata": {
    "slideshow": {
     "slide_type": "subslide"
    }
   },
   "source": [
    "<center><img src=\"Figure/Fig1-14.png\" title=\"Representative\"></center>\n",
    "<center><i>Figure 7. Overfitting the training data</i></center>"
   ]
  },
  {
   "cell_type": "markdown",
   "metadata": {
    "slideshow": {
     "slide_type": "slide"
    }
   },
   "source": [
    "# Main challenges - II\n",
    "***\n",
    "- Irrelevant Features (=garbage in, gargabe out)\n",
    "    - Option: <i>Feature selection</i>, <i>New feature generation/extraction</i>\n",
    "- Overfitting problem\n",
    "    - Option1: Simply the model by selecting one with fewer parameters (e.g., a linear model rather than a high-degree polynomial) or by constraining the model (i.e., <i>regularization</i>).\n",
    "    - Option2: Gather more training data\n",
    "    - Option3: Reduce the noise effect in the training data (e.g., preprocessing to correct apparent errors or remove outliers)\n",
    "- Underfitting the training data"
   ]
  },
  {
   "cell_type": "markdown",
   "metadata": {
    "slideshow": {
     "slide_type": "slide"
    }
   },
   "source": [
    "# Summary of Lecture 1\n",
    "***\n",
    "- Data mining is a set of techniques to 'extract hidden rules' from large-scale data (knowledge discovery).\n",
    "- Largely divided into 'verification' and 'discovery' (which is in turn categorizable into 'description' and 'prediction' domains) methods. \n",
    "- Briefly introduced concepts and algorithms of 'supervised', 'unsupervised', 'semisupervised' and 'reinforcement' learning.\n",
    "- Main challenges to be considered throughout this class (e.g., small sample size, nonrepresentative, poor-quality data, and irrelevant features and over-/under-fitting problems)"
   ]
  }
 ],
 "metadata": {
  "celltoolbar": "Slideshow",
  "kernelspec": {
   "display_name": "Python 3",
   "language": "python",
   "name": "python3"
  },
  "language_info": {
   "codemirror_mode": {
    "name": "ipython",
    "version": 3
   },
   "file_extension": ".py",
   "mimetype": "text/x-python",
   "name": "python",
   "nbconvert_exporter": "python",
   "pygments_lexer": "ipython3",
   "version": "3.7.6"
  }
 },
 "nbformat": 4,
 "nbformat_minor": 4
}
